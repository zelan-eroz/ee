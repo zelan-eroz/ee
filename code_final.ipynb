{
 "cells": [
  {
   "cell_type": "markdown",
   "source": [
    "## IV. Methodology\n",
    "\n",
    "### 4.1 Dataset Preparation\n",
    "* ~Load the clean EEG, EOG, and EMG data from the EEGDenoiseNet dataset in .npy format.~\n",
    "### 4.2 Contaminated Signal Generation\n",
    "For each selected clean EEG segment:\n",
    "* ~Randomly select an artifact segment from each chosen type.~\n",
    "* ~Calculate the contaminated signal using the formula: contaminated_signal = clean_eeg + λ * artifact_segment.~\n",
    "* ~Randomly generate and use λ value. Then calculate the SNR of the generated contaminated signal.~\n",
    "* ~With the new array of contaminated signals, drop those that are out of the typical SNR range:~\n",
    "    * Ocular artifacts: [-7 to 2]\n",
    "    * Mygoenic artifact: [-7 to 4]\n",
    "\n",
    "### 4.3 Denoising Methods\n",
    "#### 4.3.1 Empirical Mode Decomposition\n",
    "* Apply EMD to the contaminated EEG signal to decompose it into intrinsic mode functions (IMFs).\n",
    "* Analyze the IMFs to identify and remove artifacts or noise components.\n",
    "* Reconstruct the denoised EEG signal using the remaining IMFs.\n",
    "* Measure the processing time and SNR of the denoised signal.\n",
    "\n",
    "#### 4.3.2 Independent Component Analysis\n",
    "* Apply ICA to the contaminated EEG signal to extract independent components.\n",
    "* Identify the components representing the EEG signal.\n",
    "* Reconstruct the denoised EEG signal using the selected components.\n",
    "* Measure the processing time and SNR of the denoised signal.\n",
    "\n",
    "### 4.4 Evaluation\n",
    "* Calculate the SNR of the denoised EEG signals using appropriate metrics such as the ratio of signal power to noise power.\n",
    "* Compare the SNR performance and processing time of ICA and EMD for denoising the EEG signals.\n",
    "* Analyze the results and draw conclusions regarding the denoising effectiveness and efficiency of each method."
   ],
   "metadata": {
    "collapsed": false
   }
  },
  {
   "cell_type": "markdown",
   "source": [
    "### 4.1 Dataset Preparation"
   ],
   "metadata": {
    "collapsed": false
   }
  },
  {
   "cell_type": "code",
   "execution_count": null,
   "outputs": [],
   "source": [
    "import random\n",
    "import numpy as np\n",
    "from PyEMD import EMD\n",
    "import matplotlib.pyplot as plt\n",
    "import memory_profiler\n",
    "import time\n",
    "from memory_profiler import memory_usage"
   ],
   "metadata": {
    "collapsed": false
   }
  },
  {
   "cell_type": "code",
   "execution_count": null,
   "metadata": {
    "collapsed": true
   },
   "outputs": [],
   "source": [
    "eeg = np.load('EEGDenoiseNet/EEG_all_epochs.npy')\n",
    "print(f\"------EEG-----\\nSize: {eeg.size}\\nRow count: {len(eeg)}\\nColumn count: {len(eeg[0])}\\nFirst Column: {eeg[:, 0]}\\n\\n\")\n",
    "\n",
    "emg = np.load('EEGDenoiseNet/EMG_all_epochs.npy')\n",
    "print(f\"------EMG(Heart)-----\\nSize: {emg.size}\\nRow count: {len(emg)}\\nColumn count: {len(emg[0])}\\nFirst Column: {emg[:, 0]}\\n\\n\")\n",
    "\n",
    "eog = np.load('EEGDenoiseNet/EOG_all_epochs.npy')\n",
    "print(f\"------EOG(Ocular)-----\\nSize: {eog.size}\\nRow count: {len(eog)}\\nColumn count: {len(eog[0])}\\nFirst Column: {eog[:, 0]}\")"
   ]
  },
  {
   "cell_type": "markdown",
   "source": [
    "### 4.2 Contaminated Signal Generation"
   ],
   "metadata": {
    "collapsed": false
   }
  },
  {
   "cell_type": "markdown",
   "source": [
    "* Randomly select an artifact segment from each chosen type.\n",
    "* Calculate the contaminated signal using the formula: contaminated_signal = clean_eeg + λ * artifact_segment.\n",
    "* Randomly generate and use λ value. Then calculate the SNR of the generated contaminated signal."
   ],
   "metadata": {
    "collapsed": false
   }
  },
  {
   "cell_type": "code",
   "execution_count": null,
   "outputs": [],
   "source": [
    "def get_random_rows(dataset, num_rows):\n",
    "    num_total_rows = dataset.shape[0]\n",
    "    selected_indices = np.random.choice(num_total_rows, size=num_rows, replace=False)\n",
    "    selected_rows = dataset[selected_indices, :]\n",
    "    return selected_rows\n",
    "\n",
    "\n",
    "def calculate_snr(clean_eeg, artifact_segment,λ):\n",
    "    N = 512\n",
    "    # Calculate the signal power (clean EEG)\n",
    "    signal_power = (np.sum(clean_eeg ** 2)*(1/N))**0.5\n",
    "    # Calculate the noise power (artifact segment)\n",
    "    noise_power = (np.sum((λ*artifact_segment)**2)*(1/N))**0.5\n",
    "    # Calculate the SNR in dB (RMS FORMULA)\n",
    "    snr_db = 10 * np.log10(signal_power / noise_power)\n",
    "    return round(snr_db,2)\n",
    "\n",
    "def generate_contaminated_signal(clean_eeg_data,artifact_data,num_samples:int, artifact_type:str):\n",
    "    num_clean_eeg_samples = clean_eeg_data.shape[0]\n",
    "    num_eog_artifacts = artifact_data.shape[0]\n",
    "\n",
    "    contaminated_eeg_data = []\n",
    "    contamination_indices = []\n",
    "    snr_values=[]\n",
    "\n",
    "    for i in range(num_samples):\n",
    "        clean_eeg_index = np.random.randint(0, num_clean_eeg_samples)\n",
    "        eog_artifact_index = np.random.randint(0, num_eog_artifacts)\n",
    "\n",
    "        clean_eeg_sample = clean_eeg_data[clean_eeg_index]\n",
    "        artifact = artifact_data[eog_artifact_index]\n",
    "\n",
    "        #GENERATE RANDOM LAMBDA VALUE HERE\n",
    "        λ = random.uniform(-40,40)\n",
    "        #GENERATE CONTAMINATED SIGNAL USING FORMULA: y=x+(λ*n)\n",
    "        contaminated_eeg_sample = clean_eeg_sample + (artifact*λ)\n",
    "        snr=calculate_snr(clean_eeg_data,artifact,λ)\n",
    "\n",
    "        contaminated_eeg_data.append(contaminated_eeg_sample)\n",
    "        contamination_indices.append((clean_eeg_index, eog_artifact_index))\n",
    "        snr_values.append(snr)\n",
    "    return np.array(contaminated_eeg_data), contamination_indices, snr_values, artifact_type"
   ],
   "metadata": {
    "collapsed": false
   }
  },
  {
   "cell_type": "code",
   "execution_count": null,
   "outputs": [
    {
     "ename": "KeyboardInterrupt",
     "evalue": "",
     "output_type": "error",
     "traceback": [
      "\u001B[0;31m---------------------------------------------------------------------------\u001B[0m",
      "\u001B[0;31mKeyboardInterrupt\u001B[0m                         Traceback (most recent call last)",
      "Cell \u001B[0;32mIn[47], line 1\u001B[0m\n\u001B[0;32m----> 1\u001B[0m contaminated_eeg_data,indices,snr_values,artifact_type \u001B[38;5;241m=\u001B[39m \u001B[43mgenerate_contaminated_signal\u001B[49m\u001B[43m(\u001B[49m\u001B[43meeg\u001B[49m\u001B[43m,\u001B[49m\u001B[43meog\u001B[49m\u001B[43m,\u001B[49m\u001B[38;5;241;43m100000\u001B[39;49m\u001B[43m,\u001B[49m\u001B[38;5;124;43m'\u001B[39;49m\u001B[38;5;124;43mocular\u001B[39;49m\u001B[38;5;124;43m'\u001B[39;49m\u001B[43m)\u001B[49m\n\u001B[1;32m      2\u001B[0m \u001B[38;5;28mprint\u001B[39m(\u001B[38;5;124mf\u001B[39m\u001B[38;5;124m\"\u001B[39m\u001B[38;5;132;01m{\u001B[39;00mcontaminated_eeg_data\u001B[38;5;132;01m}\u001B[39;00m\u001B[38;5;130;01m\\n\u001B[39;00m\u001B[38;5;124mSNR Values: \u001B[39m\u001B[38;5;132;01m{\u001B[39;00msnr_values\u001B[38;5;132;01m}\u001B[39;00m\u001B[38;5;130;01m\\n\u001B[39;00m\u001B[38;5;124mArtifact Type: \u001B[39m\u001B[38;5;132;01m{\u001B[39;00martifact_type\u001B[38;5;132;01m}\u001B[39;00m\u001B[38;5;124m\"\u001B[39m)\n",
      "Cell \u001B[0;32mIn[46], line 37\u001B[0m, in \u001B[0;36mgenerate_contaminated_signal\u001B[0;34m(clean_eeg_data, artifact_data, num_samples, artifact_type)\u001B[0m\n\u001B[1;32m     35\u001B[0m \u001B[38;5;66;03m#GENERATE CONTAMINATED SIGNAL USING FORMULA: y=x+(λ*n)\u001B[39;00m\n\u001B[1;32m     36\u001B[0m contaminated_eeg_sample \u001B[38;5;241m=\u001B[39m clean_eeg_sample \u001B[38;5;241m+\u001B[39m (artifact\u001B[38;5;241m*\u001B[39mλ)\n\u001B[0;32m---> 37\u001B[0m snr\u001B[38;5;241m=\u001B[39m\u001B[43mcalculate_snr\u001B[49m\u001B[43m(\u001B[49m\u001B[43mclean_eeg_data\u001B[49m\u001B[43m,\u001B[49m\u001B[43martifact\u001B[49m\u001B[43m,\u001B[49m\u001B[43mλ\u001B[49m\u001B[43m)\u001B[49m\n\u001B[1;32m     39\u001B[0m contaminated_eeg_data\u001B[38;5;241m.\u001B[39mappend(contaminated_eeg_sample)\n\u001B[1;32m     40\u001B[0m contamination_indices\u001B[38;5;241m.\u001B[39mappend((clean_eeg_index, eog_artifact_index))\n",
      "Cell \u001B[0;32mIn[46], line 11\u001B[0m, in \u001B[0;36mcalculate_snr\u001B[0;34m(clean_eeg, artifact_segment, λ)\u001B[0m\n\u001B[1;32m      9\u001B[0m N \u001B[38;5;241m=\u001B[39m \u001B[38;5;241m512\u001B[39m\n\u001B[1;32m     10\u001B[0m \u001B[38;5;66;03m# Calculate the signal power (clean EEG)\u001B[39;00m\n\u001B[0;32m---> 11\u001B[0m signal_power \u001B[38;5;241m=\u001B[39m (np\u001B[38;5;241m.\u001B[39msum(\u001B[43mclean_eeg\u001B[49m\u001B[43m \u001B[49m\u001B[38;5;241;43m*\u001B[39;49m\u001B[38;5;241;43m*\u001B[39;49m\u001B[43m \u001B[49m\u001B[38;5;241;43m2\u001B[39;49m)\u001B[38;5;241m*\u001B[39m(\u001B[38;5;241m1\u001B[39m\u001B[38;5;241m/\u001B[39mN))\u001B[38;5;241m*\u001B[39m\u001B[38;5;241m*\u001B[39m\u001B[38;5;241m0.5\u001B[39m\n\u001B[1;32m     12\u001B[0m \u001B[38;5;66;03m# Calculate the noise power (artifact segment)\u001B[39;00m\n\u001B[1;32m     13\u001B[0m noise_power \u001B[38;5;241m=\u001B[39m (np\u001B[38;5;241m.\u001B[39msum((λ\u001B[38;5;241m*\u001B[39martifact_segment)\u001B[38;5;241m*\u001B[39m\u001B[38;5;241m*\u001B[39m\u001B[38;5;241m2\u001B[39m)\u001B[38;5;241m*\u001B[39m(\u001B[38;5;241m1\u001B[39m\u001B[38;5;241m/\u001B[39mN))\u001B[38;5;241m*\u001B[39m\u001B[38;5;241m*\u001B[39m\u001B[38;5;241m0.5\u001B[39m\n",
      "\u001B[0;31mKeyboardInterrupt\u001B[0m: "
     ]
    }
   ],
   "source": [
    "contaminated_eeg_data,indices,snr_values,artifact_type = generate_contaminated_signal(eeg,eog,100000,'ocular')\n",
    "print(f\"{contaminated_eeg_data}\\nSNR Values: {snr_values}\\nArtifact Type: {artifact_type}\")"
   ],
   "metadata": {
    "collapsed": false
   }
  },
  {
   "cell_type": "markdown",
   "source": [
    "* With the new array of contaminated signals, drop those that are out of the typical SNR range:\n",
    "    * Ocular artifacts: [-7 to 2]\n",
    "    * Mygoenic artifact: [-7 to 4]\n",
    "\n",
    "\n",
    "**Specific Steps**\n",
    "* ~Find the data type of `contaminated_eeg_data`, `indices`, `snr_values`, `artifact_type`~\n",
    "    * **array**: `contaminated_eeg_data`\n",
    "    * **list**: `indices`, `snr_values`\n",
    "    * **tuple**: elements inside `indices`\n",
    "    * **string**: `artifact_type`\n",
    "* ~Go through `snr_values`. If it goes out the range of the given value, find the index of that value.~\n",
    " * ~Use that index to drop values from `contaminated_eeg_data`, `indices`, `snr_values`, and `artifact_type`~\n",
    "* ~Find the length of the new array and take n samples from this. This will be your sample size.~"
   ],
   "metadata": {
    "collapsed": false
   }
  },
  {
   "cell_type": "code",
   "execution_count": null,
   "outputs": [],
   "source": [
    "count, out_of_range = 0,len(contaminated_eeg_data)\n",
    "contaminated_data2,indices2,snr_values2 = [],[],[]\n",
    "if artifact_type =='ocular':\n",
    "    snr_range = [-7,2]\n",
    "elif artifact_type == 'myogenic':\n",
    "    snr_range = [-7,4]\n",
    "\n",
    "for i in snr_values:\n",
    "    if i>=snr_range[0] and i<=snr_range[1]:\n",
    "        index=snr_values.index(i)\n",
    "        count+=1\n",
    "        out_of_range-=1\n",
    "        contaminated_data2.append(contaminated_eeg_data[index])\n",
    "        indices2.append(indices[index])\n",
    "        snr_values2.append(snr_values[index])\n",
    "    if len(contaminated_data2)==2000:\n",
    "        break\n",
    "\n",
    "print(f\"Original size: {len(contaminated_eeg_data)}\\nNumber of out of range SNR values: {out_of_range}\\nRemaining sample size: {count}\")\n",
    "\n",
    "print(f'\\nSAMPLE SIZE OR New length of contaminated_eeg_data: {len(contaminated_data2)}')"
   ],
   "metadata": {
    "collapsed": false
   }
  },
  {
   "cell_type": "markdown",
   "source": [
    "### 4.3 Denoising Algorithms"
   ],
   "metadata": {
    "collapsed": false
   }
  },
  {
   "cell_type": "markdown",
   "source": [
    "#### 4.3.1 Empirical Mode Decomposition\n",
    "\n",
    "* Apply EMD to the contaminated EEG signal to decompose it into intrinsic mode functions (IMFs) and a residual or trend.\n",
    "* Analyze the IMFs to identify and remove artifacts or noise components.\n",
    "* Reconstruct the denoised EEG signal using the remaining IMFs.\n",
    "* Measure the processing time and SNR of the denoised signal.\n",
    "\n",
    "**NOTES**\n",
    "* `IMF` is a numpy array that contains `n` numbers of `imf`s.\n",
    "* `imf` is a numpy array that is a subset of imf that contains the actual signal inputs.\n",
    "* In the following example, `IMF` has 7 elements or `imf`s. Each `imf` file contains 512 rows.\n",
    "\n",
    "**SPECIFIC STEPS**\n",
    "* Create an empty list to put the IMFs to be generated.\n",
    "* Create a function that goes through every row of `contaminated_data2`.\n",
    "    * Denoise the given `contaminated_data2` row into IMFs.\n",
    "    * Use: ```n, imf = emurate(IMF)```"
   ],
   "metadata": {
    "collapsed": false
   }
  },
  {
   "cell_type": "code",
   "execution_count": null,
   "outputs": [],
   "source": [
    "def apply_emd(s):\n",
    "    sampling_rate = 256  # Hz\n",
    "    duration = 2  # seconds\n",
    "    t = np.arange(0, duration, 1/sampling_rate)\n",
    "\n",
    "    emd = EMD(DTYPE=np.float16, max_imfs=2)\n",
    "\n",
    "    # Start memory & time usage recording\n",
    "    start_time = time.time()\n",
    "    mem_usage_start = memory_usage()[0]\n",
    "\n",
    "    #EMD\n",
    "    IMF = EMD().emd(s,t)\n",
    "\n",
    "    # End memory & time usage recording\n",
    "    mem_usage_end = memory_usage()[0]\n",
    "    end_time = time.time()\n",
    "\n",
    "    #Return memory & time usage results\n",
    "    mem_usage = mem_usage_end-mem_usage_start\n",
    "    execution_time = end_time - start_time\n",
    "\n",
    "    return IMF, mem_usage, execution_time"
   ],
   "metadata": {
    "collapsed": false
   }
  },
  {
   "cell_type": "code",
   "execution_count": null,
   "outputs": [],
   "source": [
    "IMF_data, memory_data, time_data = [],[],[]\n",
    "for sample in contaminated_data2:\n",
    "    IMF_temp, mem_temp, time_temp = apply_emd(sample)\n",
    "    IMF_data.append(IMF_temp)\n",
    "    memory_data.append(mem_temp)\n",
    "    time_data.append(time_temp)"
   ],
   "metadata": {
    "collapsed": false
   }
  },
  {
   "cell_type": "code",
   "execution_count": null,
   "outputs": [],
   "source": [],
   "metadata": {
    "collapsed": false
   }
  },
  {
   "cell_type": "markdown",
   "source": [
    "#### 4.3.2 Independent Component Analysis"
   ],
   "metadata": {
    "collapsed": false
   }
  },
  {
   "cell_type": "code",
   "execution_count": null,
   "outputs": [],
   "source": [],
   "metadata": {
    "collapsed": false,
    "pycharm": {
     "is_executing": true
    }
   }
  },
  {
   "cell_type": "markdown",
   "source": [
    "#### 4.4 Evaluation"
   ],
   "metadata": {
    "collapsed": false
   }
  },
  {
   "cell_type": "markdown",
   "source": [],
   "metadata": {
    "collapsed": false
   }
  },
  {
   "cell_type": "code",
   "execution_count": null,
   "outputs": [],
   "source": [],
   "metadata": {
    "collapsed": false
   }
  }
 ],
 "metadata": {
  "kernelspec": {
   "display_name": "Python 3",
   "language": "python",
   "name": "python3"
  },
  "language_info": {
   "codemirror_mode": {
    "name": "ipython",
    "version": 2
   },
   "file_extension": ".py",
   "mimetype": "text/x-python",
   "name": "python",
   "nbconvert_exporter": "python",
   "pygments_lexer": "ipython2",
   "version": "2.7.6"
  }
 },
 "nbformat": 4,
 "nbformat_minor": 0
}
