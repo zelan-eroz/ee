{
 "cells": [
  {
   "cell_type": "markdown",
   "metadata": {},
   "source": [
    "## IV. Methodology\n",
    "\n",
    "### 4.1 Dataset Preparation\n",
    "* ~Load the clean EEG, EOG, and EMG data from the EEGDenoiseNet dataset in .npy format.~\n",
    "### 4.2 Contaminated Signal Generation\n",
    "For each selected clean EEG segment:\n",
    "* ~Randomly select an artifact segment from each chosen type.~\n",
    "* ~Calculate the contaminated signal using the formula: contaminated_signal = clean_eeg + λ * artifact_segment.~\n",
    "* ~Randomly generate and use λ value. Then calculate the SNR of the generated contaminated signal.~\n",
    "* ~With the new array of contaminated signals, drop those that are out of the typical SNR range:~\n",
    "    * Ocular artifacts: [-7 to 2]\n",
    "    * Mygoenic artifact: [-7 to 4]\n",
    "\n",
    "### 4.3 Denoising Methods\n",
    "#### 4.3.1 Empirical Mode Decomposition\n",
    "* Apply EMD to the contaminated EEG signal to decompose it into intrinsic mode functions (IMFs).\n",
    "* Analyze the IMFs to identify and remove artifacts or noise components.\n",
    "* Reconstruct the denoised EEG signal using the remaining IMFs.\n",
    "* Measure the processing time and SNR of the denoised signal.\n",
    "\n",
    "#### 4.3.2 Independent Component Analysis\n",
    "* Apply ICA to the contaminated EEG signal to extract independent components.\n",
    "* Identify the components representing the EEG signal.\n",
    "* Reconstruct the denoised EEG signal using the selected components.\n",
    "* Measure the processing time and SNR of the denoised signal.\n",
    "\n",
    "### 4.4 Evaluation\n",
    "* Calculate the SNR of the denoised EEG signals using appropriate metrics such as the ratio of signal power to noise power.\n",
    "* Compare the SNR performance and processing time of ICA and EMD for denoising the EEG signals.\n",
    "* Analyze the results and draw conclusions regarding the denoising effectiveness and efficiency of each method."
   ]
  },
  {
   "cell_type": "markdown",
   "metadata": {},
   "source": [
    "### 4.1 Dataset Preparation"
   ]
  },
  {
   "cell_type": "code",
   "execution_count": 2,
   "metadata": {
    "pycharm": {
     "is_executing": true
    }
   },
   "outputs": [],
   "source": [
    "import random\n",
    "import numpy as np\n",
    "from PyEMD import EMD\n",
    "import matplotlib.pyplot as plt\n",
    "import memory_profiler\n",
    "import time\n",
    "from memory_profiler import memory_usage"
   ]
  },
  {
   "cell_type": "code",
   "execution_count": 3,
   "metadata": {},
   "outputs": [
    {
     "name": "stdout",
     "output_type": "stream",
     "text": [
      "------EEG-----\n",
      "Size: 2311168\n",
      "Row count: 4514\n",
      "Column count: 512\n",
      "First Column: [184.5070843  171.96198926 229.56731921 ... 317.59704985 262.89154388\n",
      " 216.07429779]\n",
      "\n",
      "\n",
      "------EMG(Heart)-----\n",
      "Size: 2866176\n",
      "Row count: 5598\n",
      "Column count: 512\n",
      "First Column: [20245.96672667 23595.64263225 34991.76745427 ...  1490.61150022\n",
      "   -38.705385    1260.54203952]\n",
      "\n",
      "\n",
      "------EOG(Ocular)-----\n",
      "Size: 1740800\n",
      "Row count: 3400\n",
      "Column count: 512\n",
      "First Column: [  7.30828446  -1.68701752  12.4808031  ...   6.81209745 298.19922839\n",
      " -44.54226777]\n"
     ]
    }
   ],
   "source": [
    "eeg = np.load('EEGDenoiseNet/EEG_all_epochs.npy')\n",
    "print(f\"------EEG-----\\nSize: {eeg.size}\\nRow count: {len(eeg)}\\nColumn count: {len(eeg[0])}\\nFirst Column: {eeg[:, 0]}\\n\\n\")\n",
    "\n",
    "emg = np.load('EEGDenoiseNet/EMG_all_epochs.npy')\n",
    "print(f\"------EMG(Heart)-----\\nSize: {emg.size}\\nRow count: {len(emg)}\\nColumn count: {len(emg[0])}\\nFirst Column: {emg[:, 0]}\\n\\n\")\n",
    "\n",
    "eog = np.load('EEGDenoiseNet/EOG_all_epochs.npy')\n",
    "print(f\"------EOG(Ocular)-----\\nSize: {eog.size}\\nRow count: {len(eog)}\\nColumn count: {len(eog[0])}\\nFirst Column: {eog[:, 0]}\")"
   ]
  },
  {
   "cell_type": "markdown",
   "metadata": {},
   "source": [
    "### 4.2 Contaminated Signal Generation"
   ]
  },
  {
   "cell_type": "markdown",
   "metadata": {},
   "source": [
    "* Randomly select an artifact segment from each chosen type.\n",
    "* Calculate the contaminated signal using the formula: contaminated_signal = clean_eeg + λ * artifact_segment.\n",
    "* Randomly generate and use λ value. Then calculate the SNR of the generated contaminated signal."
   ]
  },
  {
   "cell_type": "code",
   "execution_count": 4,
   "metadata": {},
   "outputs": [],
   "source": [
    "def get_random_rows(dataset, num_rows):\n",
    "    num_total_rows = dataset.shape[0]\n",
    "    selected_indices = np.random.choice(num_total_rows, size=num_rows, replace=False)\n",
    "    selected_rows = dataset[selected_indices, :]\n",
    "    return selected_rows\n",
    "\n",
    "\n",
    "def calculate_snr(clean_eeg, artifact_segment,λ):\n",
    "    N = 512\n",
    "    # Calculate the signal power (clean EEG)\n",
    "    signal_power = (np.sum(clean_eeg ** 2)*(1/N))**0.5\n",
    "    # Calculate the noise power (artifact segment)\n",
    "    noise_power = (np.sum((λ*artifact_segment)**2)*(1/N))**0.5\n",
    "    # Calculate the SNR in dB (RMS FORMULA)\n",
    "    snr_db = 10 * np.log10(signal_power / noise_power)\n",
    "    return round(snr_db,2)\n",
    "\n",
    "def generate_contaminated_signal(clean_eeg_data,artifact_data,num_samples:int, artifact_type:str):\n",
    "    num_clean_eeg_samples = clean_eeg_data.shape[0]\n",
    "    num_eog_artifacts = artifact_data.shape[0]\n",
    "\n",
    "    contaminated_eeg_data = []\n",
    "    contamination_indices = []\n",
    "    snr_values=[]\n",
    "\n",
    "    for i in range(num_samples):\n",
    "        clean_eeg_index = np.random.randint(0, num_clean_eeg_samples)\n",
    "        eog_artifact_index = np.random.randint(0, num_eog_artifacts)\n",
    "\n",
    "        clean_eeg_sample = clean_eeg_data[clean_eeg_index]\n",
    "        artifact = artifact_data[eog_artifact_index]\n",
    "\n",
    "        #GENERATE RANDOM LAMBDA VALUE HERE\n",
    "        λ = random.uniform(-40,40)\n",
    "        #GENERATE CONTAMINATED SIGNAL USING FORMULA: y=x+(λ*n)\n",
    "        contaminated_eeg_sample = clean_eeg_sample + (artifact*λ)\n",
    "        snr=calculate_snr(clean_eeg_data,artifact,λ)\n",
    "\n",
    "        contaminated_eeg_data.append(contaminated_eeg_sample)\n",
    "        contamination_indices.append((clean_eeg_index, eog_artifact_index))\n",
    "        snr_values.append(snr)\n",
    "    return np.array(contaminated_eeg_data), contamination_indices, snr_values, artifact_type"
   ]
  },
  {
   "cell_type": "code",
   "execution_count": null,
   "metadata": {
    "pycharm": {
     "is_executing": true
    }
   },
   "outputs": [],
   "source": [
    "contaminated_eeg_data,indices,snr_values,artifact_type = generate_contaminated_signal(eeg,eog,100000,'ocular')\n",
    "print(f\"{contaminated_eeg_data}\\nSNR Values: {snr_values}\\nArtifact Type: {artifact_type}\")"
   ]
  },
  {
   "cell_type": "markdown",
   "metadata": {},
   "source": [
    "* With the new array of contaminated signals, drop those that are out of the typical SNR range:\n",
    "    * Ocular artifacts: [-7 to 2]\n",
    "    * Mygoenic artifact: [-7 to 4]\n",
    "\n",
    "\n",
    "**Specific Steps**\n",
    "* ~Find the data type of `contaminated_eeg_data`, `indices`, `snr_values`, `artifact_type`~\n",
    "    * **array**: `contaminated_eeg_data`\n",
    "    * **list**: `indices`, `snr_values`\n",
    "    * **tuple**: elements inside `indices`\n",
    "    * **string**: `artifact_type`\n",
    "* ~Go through `snr_values`. If it goes out the range of the given value, find the index of that value.~\n",
    " * ~Use that index to drop values from `contaminated_eeg_data`, `indices`, `snr_values`, and `artifact_type`~\n",
    "* ~Find the length of the new array and take n samples from this. This will be your sample size.~"
   ]
  },
  {
   "cell_type": "code",
   "execution_count": null,
   "metadata": {},
   "outputs": [],
   "source": [
    "count, out_of_range = 0,len(contaminated_eeg_data)\n",
    "contaminated_data2,indices2,snr_values2 = [],[],[]\n",
    "if artifact_type =='ocular':\n",
    "    snr_range = [-7,2]\n",
    "elif artifact_type == 'myogenic':\n",
    "    snr_range = [-7,4]\n",
    "\n",
    "for i in snr_values:\n",
    "    if i>=snr_range[0] and i<=snr_range[1]:\n",
    "        index=snr_values.index(i)\n",
    "        count+=1\n",
    "        out_of_range-=1\n",
    "        contaminated_data2.append(contaminated_eeg_data[index])\n",
    "        indices2.append(indices[index])\n",
    "        snr_values2.append(snr_values[index])\n",
    "    if len(contaminated_data2)==2000:\n",
    "        break\n",
    "\n",
    "print(f\"Original size: {len(contaminated_eeg_data)}\\nNumber of out of range SNR values: {out_of_range}\\nRemaining sample size: {count}\")\n",
    "\n",
    "print(f'\\nSAMPLE SIZE OR New length of contaminated_eeg_data: {len(contaminated_data2)}')"
   ]
  },
  {
   "cell_type": "markdown",
   "metadata": {},
   "source": [
    "### 4.3 Denoising Algorithms"
   ]
  },
  {
   "cell_type": "markdown",
   "metadata": {},
   "source": [
    "#### 4.3.1 Empirical Mode Decomposition\n",
    "\n",
    "* Apply EMD to the contaminated EEG signal to decompose it into intrinsic mode functions (IMFs) and a residual or trend.\n",
    "* Analyze the IMFs to identify and remove artifacts or noise components.\n",
    "* Reconstruct the denoised EEG signal using the remaining IMFs.\n",
    "* Measure the processing time and SNR of the denoised signal.\n",
    "\n",
    "**NOTES**\n",
    "* `IMF` is a numpy array that contains `n` numbers of `imf`s.\n",
    "* `imf` is a numpy array that is a subset of imf that contains the actual signal inputs.\n",
    "* In the following example, `IMF` has 7 elements or `imf`s. Each `imf` file contains 512 rows.\n",
    "\n",
    "**SPECIFIC STEPS**\n",
    "* ~Create an empty list to put the IMFs to be generated.~\n",
    "* ~Create a function that goes through every row of `contaminated_data2`.~\n",
    "    * ~Denoise the given `contaminated_data2` row into IMFs.~\n",
    "    * ~Use: ```n, imf = emurate(IMF)```~"
   ]
  },
  {
   "cell_type": "code",
   "execution_count": null,
   "metadata": {},
   "outputs": [],
   "source": [
    "def apply_emd(s):\n",
    "    sampling_rate = 256  # Hz\n",
    "    duration = 2  # seconds\n",
    "    t = np.arange(0, duration, 1/sampling_rate)\n",
    "\n",
    "    emd = EMD(DTYPE=np.float16, max_imfs=2)\n",
    "\n",
    "    # Start memory & time usage recording\n",
    "    start_time = time.time()\n",
    "    mem_usage_start = memory_usage()[0]\n",
    "\n",
    "    #EMD\n",
    "    IMF = EMD().emd(s,t)\n",
    "\n",
    "    # End memory & time usage recording\n",
    "    mem_usage_end = memory_usage()[0]\n",
    "    end_time = time.time()\n",
    "\n",
    "    #Return memory & time usage results\n",
    "    mem_usage = mem_usage_end-mem_usage_start\n",
    "    execution_time = end_time - start_time\n",
    "\n",
    "    return IMF, mem_usage, execution_time"
   ]
  },
  {
   "cell_type": "code",
   "execution_count": null,
   "metadata": {},
   "outputs": [],
   "source": [
    "IMF_data, memory_data, time_data = [],[],[]\n",
    "for sample in contaminated_data2:\n",
    "    IMF_temp, mem_temp, time_temp = apply_emd(sample)\n",
    "    IMF_data.append(IMF_temp)\n",
    "    memory_data.append(mem_temp)\n",
    "    time_data.append(time_temp)"
   ]
  },
  {
   "cell_type": "code",
   "execution_count": null,
   "metadata": {},
   "outputs": [],
   "source": []
  },
  {
   "cell_type": "markdown",
   "metadata": {},
   "source": [
    "**EMD - Calculate SNR**\n",
    "\n",
    "Compare the denoised EEG signal with the original clean EEG signal by calculating the SNR. The SNR can be calculated as follows:\n",
    "SNR = 10 * log10(Var(clean signal) / Var(denoised signal - clean signal))\n",
    "Where \"Var\" represents the variance.\n",
    "\n",
    "**Visual Evaluation**\n",
    "Plot and visualize the original EEG signal, the noisy EEG signal, and the denoised EEG signal for qualitative assessment. This can help you observe the effectiveness of the EMD algorithm in removing noise.\n",
    "\n",
    "**Statistical Analysis**\n",
    "You can perform statistical analysis to compare the performance of the EMD algorithm with other denoising methods, if applicable. This could involve comparing SNR values, computation times, and memory usage against other algorithms."
   ]
  },
  {
   "cell_type": "code",
   "execution_count": null,
   "metadata": {},
   "outputs": [],
   "source": []
  },
  {
   "cell_type": "markdown",
   "metadata": {},
   "source": [
    "#### 4.3.2 Independent Component Analysis"
   ]
  },
  {
   "cell_type": "code",
   "execution_count": null,
   "metadata": {
    "pycharm": {
     "is_executing": true
    }
   },
   "outputs": [],
   "source": [
    "import numpy as np\n",
    "import matplotlib.pyplot as plt\n",
    "from sklearn.decomposition import FastICA\n",
    "\n",
    "# Assuming your EEG data is stored in a 2D numpy array called 'eeg_data',\n",
    "# where each row corresponds to a sample, and each column corresponds to a channel.\n",
    "\n",
    "# Step 1: Load and preprocess the EEG dataset\n",
    "# You can apply any required preprocessing steps here (e.g., filtering, normalization).\n",
    "\n",
    "# Step 2: Perform ICA\n",
    "ica = FastICA(n_components=512, random_state=42)\n",
    "independent_components = ica.fit_transform(eeg_data)\n",
    "\n",
    "# Step 3: Reconstruct the original signals using the independent components\n",
    "reconstructed_eeg = ica.inverse_transform(independent_components)\n",
    "\n",
    "# Step 4: Visualize the independent components\n",
    "num_components_to_visualize = 10  # Choose how many components you want to visualize\n",
    "plt.figure(figsize=(12, 8))\n",
    "for i in range(num_components_to_visualize):\n",
    "    plt.subplot(2, num_components_to_visualize // 2, i + 1)\n",
    "    plt.plot(independent_components[:, i])\n",
    "    plt.title(f'Independent Component {i + 1}')\n",
    "plt.tight_layout()\n",
    "plt.show()\n",
    "\n",
    "# You can also visualize the reconstructed EEG signals for comparison\n",
    "plt.figure(figsize=(12, 8))\n",
    "for i in range(num_components_to_visualize):\n",
    "    plt.subplot(2, num_components_to_visualize // 2, i + 1)\n",
    "    plt.plot(reconstructed_eeg[:, i])\n",
    "    plt.title(f'Reconstructed Signal {i + 1}')\n",
    "plt.tight_layout()\n",
    "plt.show()\n"
   ]
  },
  {
   "cell_type": "code",
   "execution_count": null,
   "metadata": {},
   "outputs": [],
   "source": [
    "import numpy as np\n",
    "import matplotlib.pyplot as plt\n",
    "from sklearn.decomposition import FastICA\n",
    "from memory_profiler import memory_usage\n",
    "import time\n",
    "\n",
    "# Generate a synthetic EEG dataset for demonstration\n",
    "np.random.seed(42)\n",
    "num_samples = 1000\n",
    "num_channels = 512\n",
    "eeg_data = np.random.rand(num_samples, num_channels)\n",
    "\n",
    "# Function to perform ICA using FastICA\n",
    "def perform_ica(eeg_data, num_components):\n",
    "    ica = FastICA(n_components=num_components, random_state=42)\n",
    "    independent_components = ica.fit_transform(eeg_data)\n",
    "    return independent_components\n",
    "\n",
    "# Measure memory usage\n"
   ]
  },
  {
   "cell_type": "markdown",
   "metadata": {},
   "source": [
    "#### 4.4 Evaluation"
   ]
  },
  {
   "cell_type": "markdown",
   "metadata": {},
   "source": []
  },
  {
   "cell_type": "code",
   "execution_count": null,
   "metadata": {},
   "outputs": [],
   "source": []
  }
 ],
 "metadata": {
  "kernelspec": {
   "display_name": "Python 3 (ipykernel)",
   "language": "python",
   "name": "python3"
  },
  "language_info": {
   "codemirror_mode": {
    "name": "ipython",
    "version": 3
   },
   "file_extension": ".py",
   "mimetype": "text/x-python",
   "name": "python",
   "nbconvert_exporter": "python",
   "pygments_lexer": "ipython3",
   "version": "3.9.6"
  }
 },
 "nbformat": 4,
 "nbformat_minor": 1
}
