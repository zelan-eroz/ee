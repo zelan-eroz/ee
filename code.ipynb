{
 "cells": [
  {
   "cell_type": "markdown",
   "source": [
    "## IV. Methodology\n",
    "\n",
    "### 4.1 Dataset Preparation\n",
    "* Load the clean EEG, EOG, and EMG data from the EEGDenoiseNet dataset in .npy format.\n",
    "* Randomly select a clean EEG segment (2-second duration) from the dataset.\n",
    "* Randomly select an EOG or EMG artifact segment from the respective dataset.\n",
    "### 4.2 SNR Generation\n",
    "* Determine the desired range of SNR values to evaluate for both ocular and myogenic artifacts. For example, consider the ranges mentioned in the paper: ocular artifacts (-7 to 2 dB) and myogenic artifacts (-7 to 4 dB).\n",
    "* Randomly select an SNR value from the respective range for each contaminated signal.\n",
    "### 4.3 Contaminated Signal Generation\n",
    "For each selected clean EEG segment:\n",
    "* Randomly select an artifact type (EOG or EMG).\n",
    "* Randomly select an artifact segment from the chosen type.\n",
    "* Calculate the contaminated signal using the formula: contaminated_signal = clean_eeg + λ * artifact_segment.\n",
    "* Adjust the value of λ based on the randomly selected SNR value.\n",
    "### 4.4 Denoising Methods\n",
    "#### 4.4.1 Independent Component Analysis\n",
    "* Apply ICA to the contaminated EEG signal to extract independent components.\n",
    "* Identify the components representing the EEG signal.\n",
    "* Reconstruct the denoised EEG signal using the selected components.\n",
    "* Measure the processing time and SNR of the denoised signal.\n",
    "#### 4.4.2 Empirical Mode Decomposition\n",
    "* Apply EMD to the contaminated EEG signal to decompose it into intrinsic mode functions (IMFs).\n",
    "* Analyze the IMFs to identify and remove artifacts or noise components.\n",
    "* Reconstruct the denoised EEG signal using the remaining IMFs.\n",
    "* Measure the processing time and SNR of the denoised signal.\n",
    "### 4.5 Evaluation\n",
    "* Calculate the SNR of the denoised EEG signals using appropriate metrics such as the ratio of signal power to noise power.\n",
    "* Compare the SNR performance and processing time of ICA and EMD for denoising the EEG signals.\n",
    "* Analyze the results and draw conclusions regarding the denoising effectiveness and efficiency of each method."
   ],
   "metadata": {
    "collapsed": false
   }
  },
  {
   "cell_type": "markdown",
   "source": [
    "### 4.1 Dataset Preparation"
   ],
   "metadata": {
    "collapsed": false
   }
  },
  {
   "cell_type": "code",
   "execution_count": null,
   "outputs": [],
   "source": [
    "import numpy as np\n",
    "eeg = np.load('EEGDenoiseNet/EEG_all_epochs.npy')\n",
    "print(f\"------EEG-----\\nSize: {eeg.size}\\nRow count: {len(eeg)}\\nColumn count: {len(eeg[0])}\\nFirst Column: {eeg[:, 0]}\\n\\n\")\n",
    "\n",
    "emg = np.load('EEGDenoiseNet/EMG_all_epochs.npy')\n",
    "print(f\"------EMG(Heart)-----\\nSize: {emg.size}\\nRow count: {len(emg)}\\nColumn count: {len(emg[0])}\\nFirst Column: {emg[:, 0]}\\n\\n\")\n",
    "\n",
    "eog = np.load('EEGDenoiseNet/EOG_all_epochs.npy')\n",
    "print(f\"------EOG(Ocular)-----\\nSize: {eog.size}\\nRow count: {len(eog)}\\nColumn count: {len(eog[0])}\\nFirst Column: {eog[:, 0]}\")"
   ],
   "metadata": {
    "collapsed": false
   }
  },
  {
   "cell_type": "code",
   "execution_count": null,
   "outputs": [],
   "source": [
    "import matplotlib.pyplot as plt\n",
    "\n",
    "def plot_random_row(dataset, title:str):\n",
    "    num_rows, num_columns = dataset.shape\n",
    "    sampling_rate = 256  # Hz\n",
    "    duration = 2  # seconds\n",
    "    time = np.arange(0, duration, 1/sampling_rate)\n",
    "\n",
    "    #----PLOT RANDOM ROW AS SAMPLE-----\n",
    "    random_row_index = np.random.randint(num_rows) #produce random index or number\n",
    "    random_row = dataset[random_row_index] #extract row of that corresponding index\n",
    "    plt.plot(time, random_row)\n",
    "    plt.title(f'{title} Dataset Row #{random_row_index} (random)')\n",
    "    return plt.show()"
   ],
   "metadata": {
    "collapsed": false
   }
  },
  {
   "cell_type": "code",
   "execution_count": null,
   "outputs": [],
   "source": [
    "plot_random_row(emg,'EMG')\n",
    "plot_random_row(eeg,'EEG')"
   ],
   "metadata": {
    "collapsed": false
   }
  },
  {
   "cell_type": "markdown",
   "source": [
    "### 4.2 SNR Generation\n",
    "\n",
    "* Randomly select an SNR value from the respective range for each contaminated signal.\n",
    "\n",
    "Ocular artifacts: [-7 to 2]\n",
    "Mygoenic artifact: [-7 to 4]\n",
    "\n",
    "What I did for this part is every time I create a contaminated EEG signal, a random SNR value is chosen. I did not pick specific SNR values anymore as increasing or decreasing SNR value doesn't necessarily mean it's more complex."
   ],
   "metadata": {
    "collapsed": false
   }
  },
  {
   "cell_type": "markdown",
   "source": [
    "### 4.3 Contaminated Signal Generation"
   ],
   "metadata": {
    "collapsed": false
   }
  },
  {
   "cell_type": "code",
   "execution_count": null,
   "outputs": [],
   "source": [
    "print(len(eeg[1]))\n",
    "print(eeg[1][0])"
   ],
   "metadata": {
    "collapsed": false
   }
  },
  {
   "cell_type": "code",
   "execution_count": null,
   "outputs": [],
   "source": [
    "# # #RMS\n",
    "# # #g is 1 sample of EEG data. n is the 512 columns\n",
    "# def rms(eeg_index):\n",
    "#     #n = number of samples\n",
    "#     #summation of g^2\n",
    "#     sum=0\n",
    "#     for i in range(512):\n",
    "#         sum+=(eeg[eeg_index][i])**2\n",
    "#     return ((1/512)*sum)**0.5\n",
    "#\n",
    "#\n",
    "# # #SNR\n",
    "# # import math\n",
    "# # def snr()\n",
    "# #     z = rms()\n",
    "# #     math.log10(z)"
   ],
   "metadata": {
    "collapsed": false
   }
  },
  {
   "cell_type": "markdown",
   "source": [
    "**WHAT'S WRONG?**\n",
    "\n",
    "* Delta should be used in the code instead of SNR.\n",
    "* Delta should be adjusted based on the SNR value you want\n",
    "* It should be: ```contaminated_eeg_sample = clean_eeg_sample + delta*eog_artifact```\n",
    "\n",
    "ADD CODE TO DETERMINE THE DELTA BASED ON THE RANDOMLY GENERATED SNR VALUE.\n",
    "\n",
    "$$\\text{SNR} = 10log\\frac{RMS(x)}{RMS(\\lambda\\times n)}$$\n",
    "\n",
    "\n",
    "$$\\frac{SNR}{10} = log\\frac{RMS(x)}{RMS(\\lambda\\times n)}$$\n",
    "\n",
    "$$SNR=10\\log\\frac{\\text{RMS(signal)}}{RMS(noise)}$$"
   ],
   "metadata": {
    "collapsed": false
   }
  },
  {
   "cell_type": "code",
   "execution_count": null,
   "outputs": [],
   "source": [
    "# ## ATTEMPT 2 OF FUNCTION GENERATE_CONTAMINATED_EEG_DATA | WITH CONTAMINATION INDICES\n",
    "#\n",
    "# def generate_contaminated_eeg_data(clean_eeg_data, artifacts, num_samples, artifact_type:str):\n",
    "#     num_clean_eeg_samples = clean_eeg_data.shape[0]\n",
    "#     num_artifacts = artifacts.shape[0]\n",
    "#\n",
    "#     contaminated_eeg_data = []\n",
    "#     contamination_indices = []\n",
    "#     snr_values = []\n",
    "#     if artifact_type=='eog':\n",
    "#         max_snr = 2+1\n",
    "#     elif artifact_type=='emg':\n",
    "#         max_snr=4+1\n",
    "#\n",
    "#     for _ in range(num_samples):\n",
    "#         snr = np.random.randint(-7, max_snr)\n",
    "#         clean_eeg_index = np.random.randint(0, num_clean_eeg_samples)\n",
    "#         artifact_index = np.random.randint(0, num_artifacts)\n",
    "#\n",
    "#         clean_eeg_sample = clean_eeg_data[clean_eeg_index]\n",
    "#         eog_artifact = artifacts[artifact_index]\n",
    "#         contaminated_eeg_sample = clean_eeg_sample + snr*eog_artifact\n",
    "#\n",
    "#         contaminated_eeg_data.append(contaminated_eeg_sample)\n",
    "#         contamination_indices.append((clean_eeg_index, artifact_index))\n",
    "#         snr_values.append(snr)\n",
    "#\n",
    "#     return np.array(contaminated_eeg_data), contamination_indices,snr_values"
   ],
   "metadata": {
    "collapsed": false
   }
  },
  {
   "cell_type": "code",
   "execution_count": null,
   "outputs": [],
   "source": [
    "num_samples = 1000  # Specify the number of contaminated EEG data samples to generate\n",
    "contaminated_eeg_data, contamination_indices,snr_values = generate_contaminated_eeg_data(eeg, eog, num_samples,artifact_type='eog')\n",
    "\n",
    "# Verify the shape of the generated contaminated EEG data\n",
    "print(\"Shape of contaminated EEG data:\", contaminated_eeg_data.shape)"
   ],
   "metadata": {
    "collapsed": false
   }
  },
  {
   "cell_type": "code",
   "execution_count": null,
   "outputs": [],
   "source": [
    "# Print the indices of the clean EEG data and EOG artifacts used for each contaminated signal\n",
    "#for i, (eeg_index, eog_index) in enumerate(contamination_indices):\n",
    "#    print(f\"Contaminated EEG sample {i+1}: Clean EEG index = {eeg_index}, EOG index = {eog_index}\")\n",
    "#print(contamination_indices)\n",
    "\n",
    "sampling_rate = 256  # Hz\n",
    "duration = 2  # seconds\n",
    "time = np.arange(0, duration, 1/sampling_rate)\n",
    "\n",
    "plt.figure(figsize=(10, 6))\n",
    "row=0\n",
    "\n",
    "# Plot clean EEG\n",
    "plt.subplot(2, 2, 1)\n",
    "plt.plot(time, eeg[contamination_indices[row][0]])  # Replace '0' with the desired segment or row from the clean EEG data\n",
    "plt.xlabel('Time (s)')\n",
    "plt.ylabel('Amplitude')\n",
    "plt.title(f'Clean EEG (row: {contamination_indices[row][0]})')\n",
    "\n",
    "# Plot EOG\n",
    "plt.subplot(2, 2, 2)\n",
    "plt.plot(time, eog[contamination_indices[row][1]])  # Replace '0' with the desired segment or row from the EOG data\n",
    "plt.xlabel('Time (s)')\n",
    "plt.ylabel('Amplitude')\n",
    "plt.title(f'EOG (row: {contamination_indices[row][1]})')\n",
    "\n",
    "# Plot contaminated signal\n",
    "plt.subplot(2, 1, 2)\n",
    "plt.plot(time, contaminated_eeg_data[row])  # Replace '0' with the desired segment or row from the contaminated signal\n",
    "plt.xlabel('Time (s)')\n",
    "plt.ylabel('Amplitude')\n",
    "plt.title(f'Contaminated Signal | $snr={snr_values[row]}$')\n",
    "\n",
    "plt.tight_layout()\n",
    "plt.show()"
   ],
   "metadata": {
    "collapsed": false
   }
  },
  {
   "cell_type": "code",
   "execution_count": null,
   "outputs": [],
   "source": [
    "def calculate_snr(clean_eeg, artifact_segment,λ):\n",
    "    N = 512\n",
    "    # Calculate the signal power (clean EEG)\n",
    "    signal_power = (np.sum(clean_eeg ** 2)*(1/N))**0.5\n",
    "    # Calculate the noise power (artifact segment)\n",
    "    noise_power = (np.sum((λ*artifact_segment)**2)*(1/N))**0.5\n",
    "    # Calculate the SNR in dB (RMS FORMULA)\n",
    "    snr_db = 10 * np.log10(signal_power / noise_power)\n",
    "    return round(snr_db,2)\n",
    "\n",
    "def generate_contaminated_signal(clean_eeg_data,artifact_data,num_samples:int, artifact_type:str):\n",
    "    num_clean_eeg_samples = clean_eeg_data.shape[0]\n",
    "    num_eog_artifacts = artifact_data.shape[0]\n",
    "\n",
    "    contaminated_eeg_data = []\n",
    "    contamination_indices = []\n",
    "    snr_values=[]\n",
    "\n",
    "    for i in range(num_samples):\n",
    "        clean_eeg_index = np.random.randint(0, num_clean_eeg_samples)\n",
    "        eog_artifact_index = np.random.randint(0, num_eog_artifacts)\n",
    "\n",
    "        clean_eeg_sample = clean_eeg_data[clean_eeg_index]\n",
    "        artifact = artifact_data[eog_artifact_index]\n",
    "\n",
    "        #GENERATE RANDOM LAMBDA VALUE HERE\n",
    "        λ = random.uniform(-1,1)\n",
    "        print(λ)\n",
    "\n",
    "        #GENERATE CONTAMINATED SIGNAL USING FORMULA: y=x+(λ*n)\n",
    "        contaminated_eeg_sample = clean_eeg_sample + (artifact*λ)\n",
    "\n",
    "        contaminated_eeg_data.append(contaminated_eeg_sample)\n",
    "        contamination_indices.append((clean_eeg_index, eog_artifact_index))\n",
    "        snr_values.append(calculate_snr(clean_eeg_data,artifact,λ))\n",
    "    return np.array(contaminated_eeg_data), contamination_indices, snr_values, artifact_type\n",
    "\n",
    "def get_random_rows(dataset, num_rows):\n",
    "    num_total_rows = dataset.shape[0]\n",
    "    selected_indices = np.random.choice(num_total_rows, size=num_rows, replace=False)\n",
    "    selected_rows = dataset[selected_indices, :]\n",
    "    return selected_rows\n",
    "\n",
    "#----------------\n",
    "clean_eeg_data = get_random_rows(eeg,1000)\n",
    "artifact_data = get_random_rows(eog,1000)\n",
    "λ = 0.3\n",
    "for i in [0.1,0.2,0.3,0.4]:\n",
    "    λ=i\n",
    "    contaminated_eeg_data = clean_eeg_data + λ * artifact_data\n",
    "    # Calculate SNR for each contaminated EEG sample\n",
    "    snr_values = calculate_snr(contaminated_eeg_data, clean_eeg_data, artifact_data)\n",
    "\n",
    "    # Verify the shape of the SNR values array\n",
    "    print(f\"\\n\\n-----| {λ} |-----\")\n",
    "    print(\"Shape of SNR values:\", snr_values.shape)\n",
    "    # Example: print SNR values for the first 10 contaminated EEG samples\n",
    "    print(f\"SNR values for the first 10 samples: {round(snr_values[0]),round(snr_values[1]),round(snr_values[2]),round(snr_values[3]),round(snr_values[4]),round(snr_values[5]),round(snr_values[6]),round(snr_values[7]),round(snr_values[8]),round(snr_values[9])}\")\n",
    "    print(f\"Max SNR: {round(max(snr_values))}\\nMin SNR: {round(min(snr_values))}\\nAverage SNR: {round(np.mean(snr_values))}\")"
   ],
   "metadata": {
    "collapsed": false
   }
  },
  {
   "cell_type": "markdown",
   "source": [
    "Ocular artifacts: [-7 to 2] Mygoenic artifact: [-7 to 4]\n",
    "\n",
    "\n",
    "\n",
    "| λ   | Max | Min | AVG | SNR values of first 10 samples           |\n",
    "|-----|-----|-----|-----|------------------------------------------|\n",
    "| 0.1 | 42  | 9   | 26  | (25, 33, 26, 38, 28, 31, 37, 35, 23, 26) |\n",
    "| 0.2 | 37  | 1   | 20  | (27, 16, 23, 20, 17, 14, 20, 22, 12, 24) |\n",
    "| 0.3 | 32  | -1  | 17  | (16, 24, 17, 28, 18, 22, 28, 26, 14, 17)                                         |\n",
    "| 0.4 | 31  | -9  | 14  | (18, 16, 2, 10, 17, 3, 22, 13, 9, 7)     |\n",
    "| 0.5 | 30  | -7  | 12  | (9, 18, 6, 8, 15, 9, 6, 10, 11, 11)      |\n",
    "| 0.6 | 26  | -7  | 11  | (10, 18, 11, 22, 12, 16, 22, 20, 8, 11)                                         |\n",
    "| 0.7 | 25  | -8  | 9   | (8, 16, 9, 21, 11, 14, 20, 18, 6, 9)                                         |\n",
    "| 0.8 | 24  | -9  | 8   | (7, 15, 8, 20, 10, 13, 19, 17, 5, 8)                                         |\n",
    "| 0.9 | 23  | -10 | 7   | (6, 14, 7, 19, 9, 12, 18, 16, 4, 7)                                         |\n",
    "| 1   | 22  | -11 | 6   | (5, 13, 6, 18, 8, 11, 17, 15, 3, 6)                                         |\n",
    "| 1.1 | 23  | -13 | 5   | (1, 4, -2, 3, -1, 23, -3, 2, 9, 3)                                         |\n",
    "| 1.2 | 22  | -13 | 4   | (1, 3, -3, 2, -1, 22, -4, 1, 8, 2)                                         |\n",
    "| 1.3 | 22  | -14 | 4   | (0, 2, -3, 1, -2, 22, -4, 0, 7, 1)                                         |\n",
    "| 1.4 | 21  | -15 | 3   | (-1, 2, -4, 1, -3, 21, -5, 0, 7, 1)                                         |\n",
    "| 1.5 | 21  | -15 | 2   | (-1, 1, -5, 0, -3, 21, -6, -1, 6, 0)                                         |\n",
    "| 1.6 | 20  | -16 | 2   | (-2, 1, -5, 0, -4, 20, -6, -2, 6, 0)                                         |\n",
    "| 1.7 | 19  | -16 | 1   | (-2, 0, -6, -1, -4, 19, -7, -2, 5, -1)                                         |\n",
    "| 1.8 | 19  | -17 | 1   | (-3, -1, -6, -1, -5, 19, -7, -3, 5, -1)                                         |\n",
    "| 1.9 | 18  | -17 | 0   | (-3, -1, -7, -2, -5, 18, -8, -3, 4, -2)                                         |\n",
    "| 2.0 | 18  | -18 | 0   | (-4, -1, -7, -2, -6, 18, -8, -3, 4, -2)                                         |\n"
   ],
   "metadata": {
    "collapsed": false
   }
  },
  {
   "cell_type": "markdown",
   "source": [
    "**TASKS** - July 27, 2023\n",
    "\n",
    "* ~Function that calculates RMS and SNR of an array of signals~\n",
    "\n",
    "* ~Function that generates contaminated signal~\n",
    "    * ~Parameters~:\n",
    "        * ~clean eeg dataset~\n",
    "        * ~artifact segment dataset~\n",
    "        * ~string: 'ocular' or 'myogenic'~\n",
    "        * ~sample size (number of contaminated signals to be generated)~\n",
    "    * ~Functionalities:~\n",
    "        * ~Randomly generate decimal lambda values ranging from 0 to 1.6~\n",
    "        * ~Creates contaminated signal from clean eeg and artifact using the formula given.~\n",
    "        * ~Calculate the snr of that given signal using the SNR function.~\n",
    "    * ~Returns:~\n",
    "        * ~NP array(nx512): contaminated_eeg_data~\n",
    "        * ~List: contamination_indices (clean_eeg_index, artifact_index)~\n",
    "        * ~List: snr_values~\n",
    "        * ~string: artifact_type~\n",
    "\n",
    "* ~The output of the functions above shall be assigned to variables: contaminated, indices, snr_values~\n",
    "* ~Print out the shape of the dataset.~\n",
    "* ~CODE that filters generated contaminated signals (whether they fall within the accepted range of SNR values for that artifact type)~\n",
    "    * ~Variables:~\n",
    "        *  ~contaminated, indices, snr_values, artifact_type~\n",
    "    * ~Functionalities:~\n",
    "        * ~if artifact_type=='ocular', snr_range=[-7,2+1]; elif artifact_type=='myogenic', snr_range=[-7,4+1]~\n",
    "        * ~Go through contaminated2 & snr_values2 and see if that row has a snr value that satisfies the given snr_range~\n",
    "            * ~If false: delete row using the index~\n",
    "\n",
    "* ~Then create new variables, contaminated2, indices2, and snr_values2.~"
   ],
   "metadata": {
    "collapsed": false
   }
  },
  {
   "cell_type": "code",
   "execution_count": null,
   "outputs": [],
   "source": [
    "import random\n",
    "import numpy as np\n",
    "\n",
    "def get_random_rows(dataset, num_rows):\n",
    "    num_total_rows = dataset.shape[0]\n",
    "    selected_indices = np.random.choice(num_total_rows, size=num_rows, replace=False)\n",
    "    selected_rows = dataset[selected_indices, :]\n",
    "    return selected_rows\n",
    "\n",
    "#CALCULATES SNR INDIVIDUALLY; GOOD FOR THE SIGNAL GENERATION FUNCTION\n"
   ],
   "metadata": {
    "collapsed": false
   }
  },
  {
   "cell_type": "code",
   "execution_count": null,
   "outputs": [],
   "source": [
    "import random\n",
    "import numpy as np\n",
    "\n",
    "def calculate_snr(clean_eeg, artifact_segment,λ):\n",
    "    N = 512\n",
    "    # Calculate the signal power (clean EEG)\n",
    "    signal_power = (np.sum(clean_eeg ** 2)*(1/N))**0.5\n",
    "    # Calculate the noise power (artifact segment)\n",
    "    noise_power = (np.sum((λ*artifact_segment)**2)*(1/N))**0.5\n",
    "    # Calculate the SNR in dB (RMS FORMULA)\n",
    "    snr_db = 10 * np.log10(signal_power / noise_power)\n",
    "    return round(snr_db,2)\n",
    "\n",
    "def generate_contaminated_signal(clean_eeg_data,artifact_data,num_samples:int, artifact_type:str):\n",
    "    num_clean_eeg_samples = clean_eeg_data.shape[0]\n",
    "    num_eog_artifacts = artifact_data.shape[0]\n",
    "\n",
    "    contaminated_eeg_data = []\n",
    "    contamination_indices = []\n",
    "    snr_values=[]\n",
    "\n",
    "    for i in range(num_samples):\n",
    "        clean_eeg_index = np.random.randint(0, num_clean_eeg_samples)\n",
    "        eog_artifact_index = np.random.randint(0, num_eog_artifacts)\n",
    "\n",
    "        clean_eeg_sample = clean_eeg_data[clean_eeg_index]\n",
    "        artifact = artifact_data[eog_artifact_index]\n",
    "\n",
    "        #GENERATE RANDOM LAMBDA VALUE HERE\n",
    "        λ = random.uniform(-40,40)\n",
    "        #GENERATE CONTAMINATED SIGNAL USING FORMULA: y=x+(λ*n)\n",
    "        contaminated_eeg_sample = clean_eeg_sample + (artifact*λ)\n",
    "        snr=calculate_snr(clean_eeg_data,artifact,λ)\n",
    "\n",
    "        contaminated_eeg_data.append(contaminated_eeg_sample)\n",
    "        contamination_indices.append((clean_eeg_index, eog_artifact_index))\n",
    "        snr_values.append(snr)\n",
    "    return np.array(contaminated_eeg_data), contamination_indices, snr_values, artifact_type"
   ],
   "metadata": {
    "collapsed": false
   }
  },
  {
   "cell_type": "code",
   "execution_count": null,
   "outputs": [],
   "source": [
    "contaminated_eeg_data,indices,snr_values,artifact_type = generate_contaminated_signal(eeg,eog,100000,'ocular')\n",
    "print(f\"{contaminated_eeg_data}\\nSNR Values: {snr_values}\\nArtifact Type: {artifact_type}\")"
   ],
   "metadata": {
    "collapsed": false
   }
  },
  {
   "cell_type": "code",
   "execution_count": null,
   "outputs": [],
   "source": [
    "count=0\n",
    "contaminated_data2,indices2,snr_values2 = [],[],[]\n",
    "if artifact_type =='ocular':\n",
    "    snr_range = [-7,2]\n",
    "elif artifact_type == 'myogenic':\n",
    "    snr_range = [-7,4]\n",
    "\n",
    "for i in snr_values:\n",
    "    if i>=snr_range[0] and i<=snr_range[1]:\n",
    "        index=snr_values.index(i)\n",
    "        count+=1\n",
    "        contaminated_data2.append(contaminated_eeg_data[index])\n",
    "        indices2.append(indices[index])\n",
    "        snr_values2.append(snr_values[index])\n",
    "\n",
    "print(count)"
   ],
   "metadata": {
    "collapsed": false
   }
  },
  {
   "cell_type": "markdown",
   "source": [
    "### 4.4 Denoising Methods"
   ],
   "metadata": {
    "collapsed": false
   }
  },
  {
   "cell_type": "code",
   "execution_count": null,
   "outputs": [],
   "source": [
    "# from PyEMD import EMD\n",
    "#\n",
    "# contaminated_data2=np.array(contaminated_data2)\n",
    "# # Create an instance of the EMD class\n",
    "# emd = EMD()\n",
    "#\n",
    "# # Decompose the contaminated EEG data using Empirical Mode Decomposition\n",
    "# # `emd.sift()` returns a list of IMFs (Intrinsic Mode Functions) and a residue\n",
    "# imfs=emd.emd(contaminated_data2)\n",
    "#\n",
    "# # Combine the IMFs to reconstruct the denoised EEG data\n",
    "# #denoised_eeg_data = np.sum(imfs, axis=0)\n",
    "#\n",
    "# # Now you have the denoised EEG data in 'denoised_eeg_data'"
   ],
   "metadata": {
    "collapsed": false
   }
  },
  {
   "cell_type": "markdown",
   "source": [
    "#### 4.4.1 Empirical Mode Decomposition\n",
    "\n",
    "1. Apply the EMD algorithm on the contaminated data. The output of this are several IMFs.\n",
    "2. Reconstruction: After obtaining the IMFs, you can reconstruct the original EEG signal by summing all the IMFs and the residual component (the last component after the EMD process). The reconstructed signal should closely resemble the original EEG data, with any artifacts or noise removed.\n",
    "3. SNR (Deconstructed vs original contaminated signal).\n",
    "4. Visual Inspection\n",
    "5. Performance Metrics: Memory, Time, MSE\n",
    "6. Cross-Validation: To ensure the results are robust and not dependent on a specific subset of the data, consider performing cross-validation by splitting your dataset into training and testing sets or using k-fold cross-validation."
   ],
   "metadata": {
    "collapsed": false
   }
  },
  {
   "cell_type": "code",
   "execution_count": null,
   "outputs": [],
   "source": [
    "contaminated_data2"
   ],
   "metadata": {
    "collapsed": false
   }
  },
  {
   "cell_type": "code",
   "execution_count": null,
   "outputs": [],
   "source": [
    "from PyEMD import EMD\n",
    "sampling_rate = 256  # Hz\n",
    "duration = 2  # seconds\n",
    "\n",
    "#DEFINE SIGNAL\n",
    "t = np.arange(0, duration, 1/sampling_rate)\n",
    "s = contaminated_data2[0]\n",
    "\n",
    "emd = EMD(DTYPE=np.float16, max_imfs=2)\n",
    "IMF = EMD().emd(s,t)\n",
    "N = IMF.shape[0]+1\n",
    "\n",
    "# Plot results\n",
    "plt.subplot(N,1,1)\n",
    "plt.plot(t, s, 'r')\n",
    "#plt.title(\"Input signal: $S(t)=cos(22\\pi t^2) + 6t^2$\")\n",
    "plt.title(\"Input signal\")\n",
    "plt.xlabel(\"Time [s]\")\n",
    "\n",
    "for n, imf in enumerate(IMF):\n",
    "    plt.subplot(N,1,n+2)\n",
    "    plt.plot(t, imf, 'g')\n",
    "    plt.title(\"IMF \"+str(n+1))\n",
    "    plt.xlabel(\"Time [s]\")\n",
    "\n",
    "plt.tight_layout()\n",
    "plt.savefig('simple_example')\n",
    "plt.show()"
   ],
   "metadata": {
    "collapsed": false
   }
  },
  {
   "cell_type": "code",
   "execution_count": null,
   "outputs": [],
   "source": [
    "def apply_emd(contaminated_datasets, sampling_rate=256, duration=2, max_imfs=2):\n",
    "    \"\"\"\n",
    "    Applies Empirical Mode Decomposition (EMD) to a list of contaminated EEG datasets.\n",
    "\n",
    "    Parameters:\n",
    "        contaminated_datasets (list): A list of contaminated EEG datasets, where each row represents a single EEG signal.\n",
    "        sampling_rate (int): Sampling rate of the EEG signals in Hz. Default is 256 Hz.\n",
    "        duration (float): Duration of each EEG signal in seconds. Default is 2 seconds.\n",
    "        max_imfs (int): Maximum number of Intrinsic Mode Functions (IMFs) to be computed. Default is 2.\n",
    "\n",
    "    Returns:\n",
    "        list: A list of lists containing the Intrinsic Mode Functions (IMFs) for each row in the input dataset.\n",
    "    \"\"\"\n",
    "    IMF_list = []\n",
    "\n",
    "    # Loop through every row of the given dataset\n",
    "    for s in contaminated_datasets:\n",
    "        # Create time array for the signal\n",
    "        t = np.arange(0, duration, 1/sampling_rate)\n",
    "\n",
    "        # Create an instance of EMD with specific settings\n",
    "        emd = EMD(DTYPE=np.float16, max_imfs=max_imfs)\n",
    "\n",
    "        # Perform EMD on the current row\n",
    "        IMF = emd.emd(s, t)\n",
    "\n",
    "        # Add the list of IMFs for the current row to the IMF_list\n",
    "        IMF_list.append(IMF)\n",
    "\n",
    "    return IMF_list\n"
   ],
   "metadata": {
    "collapsed": false
   }
  },
  {
   "cell_type": "code",
   "execution_count": null,
   "outputs": [],
   "source": [
    "IMFs = apply_emd(contaminated_data2)"
   ],
   "metadata": {
    "collapsed": false
   }
  },
  {
   "cell_type": "code",
   "execution_count": null,
   "outputs": [],
   "source": [
    "print(len(IMFs))"
   ],
   "metadata": {
    "collapsed": false
   }
  },
  {
   "cell_type": "markdown",
   "source": [
    "**DRAFT 1**"
   ],
   "metadata": {
    "collapsed": false
   }
  },
  {
   "cell_type": "code",
   "execution_count": null,
   "outputs": [],
   "source": [
    "sampling_rate = 256  # Hz\n",
    "duration = 2  # seconds\n",
    "\n",
    "#DEFINE SIGNAL\n",
    "t = np.arange(0, duration, 1/sampling_rate)\n",
    "s = contaminated_data2[0]\n",
    "\n",
    "emd = EMD(DTYPE=np.float16, max_imfs=2)\n",
    "# Start memory usage recording\n",
    "start_time = time.time()\n",
    "mem_usage_start = memory_usage()[0]\n",
    "IMF = EMD().emd(s,t)\n",
    "mem_usage_end = memory_usage()[0]\n",
    "end_time = time.time()\n",
    "mem_usage = mem_usage_end-mem_usage_start\n",
    "\n",
    "execution_time = end_time - start_time\n",
    "\n",
    "N = IMF.shape[0]+1\n",
    "\n",
    "print(\"Memory usage during EMD: {:.2f} MB\".format(mem_usage))\n",
    "print(\"Execution time of EMD: {:.2f} seconds\".format(execution_time))\n",
    "\n",
    "# Plot results\n",
    "plt.subplot(N,1,1)\n",
    "plt.plot(t, s, 'r')\n",
    "#plt.title(\"Input signal: $S(t)=cos(22\\pi t^2) + 6t^2$\")\n",
    "plt.title(\"Input signal\")\n",
    "plt.xlabel(\"Time [s]\")\n",
    "\n",
    "for n, imf in enumerate(IMF):\n",
    "    plt.subplot(N,1,n+2)\n",
    "    plt.plot(t, imf, 'g')\n",
    "    plt.title(\"IMF \"+str(n+1))\n",
    "    plt.xlabel(\"Time [s]\")\n",
    "\n",
    "plt.tight_layout()\n",
    "plt.savefig('simple_example')\n",
    "plt.show()"
   ],
   "metadata": {
    "collapsed": false
   }
  },
  {
   "cell_type": "markdown",
   "source": [
    "**DRAFT 2** ***IN USE***"
   ],
   "metadata": {
    "collapsed": false
   }
  },
  {
   "cell_type": "code",
   "execution_count": null,
   "outputs": [],
   "source": [
    "def apply_emd(s):\n",
    "    sampling_rate = 256  # Hz\n",
    "    duration = 2  # seconds\n",
    "    t = np.arange(0, duration, 1/sampling_rate)\n",
    "\n",
    "    emd = EMD(DTYPE=np.float16, max_imfs=2)\n",
    "\n",
    "    # Start memory & time usage recording\n",
    "    start_time = time.time()\n",
    "    mem_usage_start = memory_usage()[0]\n",
    "\n",
    "    #EMD\n",
    "    IMF = EMD().emd(s,t)\n",
    "\n",
    "    # End memory & time usage recording\n",
    "    mem_usage_end = memory_usage()[0]\n",
    "    end_time = time.time()\n",
    "\n",
    "    #Return memory & time usage results\n",
    "    mem_usage = mem_usage_end-mem_usage_start\n",
    "    execution_time = end_time - start_time\n",
    "\n",
    "    # for n, imf in enumerate(IMF):\n",
    "    #     print(f\"n:{n}, imf:{len(imf)}\\n\")\n",
    "\n",
    "    #N = IMF.shape[0]+1\n",
    "\n",
    "    return IMF, mem_usage, execution_time\n",
    "\n",
    "    # print(\"Memory usage during EMD: {:.2f} MB\".format(mem_usage))\n",
    "    # print(\"Execution time of EMD: {:.2f} seconds\".format(execution_time))\n",
    "\n",
    "# Plot results\n",
    "# plt.subplot(N,1,1)\n",
    "# plt.plot(t, s, 'r')\n",
    "# #plt.title(\"Input signal: $S(t)=cos(22\\pi t^2) + 6t^2$\")\n",
    "# plt.title(\"Input signal\")\n",
    "# plt.xlabel(\"Time [s]\")\n",
    "#\n",
    "# for n, imf in enumerate(IMF):\n",
    "#     plt.subplot(N,1,n+2)\n",
    "#     plt.plot(t, imf, 'g')\n",
    "#     plt.title(\"IMF \"+str(n+1))\n",
    "#     plt.xlabel(\"Time [s]\")\n",
    "#\n",
    "# plt.tight_layout()\n",
    "# plt.savefig('simple_example')\n",
    "# plt.show()"
   ],
   "metadata": {
    "collapsed": false
   }
  },
  {
   "cell_type": "markdown",
   "source": [
    "**DRAFT 3** ***WITH ACTIVE PLOT AND EXAMPLE***"
   ],
   "metadata": {
    "collapsed": false
   }
  },
  {
   "cell_type": "code",
   "execution_count": null,
   "outputs": [],
   "source": [
    "sampling_rate = 256  # Hz\n",
    "duration = 2  # seconds\n",
    "t = np.arange(0, duration, 1/sampling_rate)\n",
    "\n",
    "# Function to calculate the EMD and get memory usage\n",
    "def apply_emd(signal, time):\n",
    "    # Create an instance of EMD with specific settings\n",
    "    emd = EMD(DTYPE=np.float16, max_imfs=2)\n",
    "\n",
    "    # Start memory usage recording\n",
    "    mem_usage_start = memory_usage()[0]\n",
    "\n",
    "    # Perform EMD\n",
    "    IMF = emd.emd(signal, time)\n",
    "\n",
    "    # End memory usage recording\n",
    "    mem_usage_end = memory_usage()[0]\n",
    "\n",
    "    # Calculate memory usage during EMD process\n",
    "    mem_usage_emd = mem_usage_end - mem_usage_start\n",
    "\n",
    "    return IMF, mem_usage_emd\n",
    "\n",
    "# Measure time and memory usage for EMD\n",
    "start_time = time.time()\n",
    "IMF, memory_usage_emd = apply_emd(contaminated_data2, t)\n",
    "end_time = time.time()\n",
    "execution_time = end_time - start_time\n",
    "\n",
    "N = IMF.shape[0] + 1\n",
    "\n",
    "# Print memory usage and execution time\n",
    "print(\"Memory usage during EMD: {:.2f} MB\".format(memory_usage_emd))\n",
    "print(\"Execution time of EMD: {:.2f} seconds\".format(execution_time))\n",
    "\n",
    "# Plot results\n",
    "plt.subplot(N,1,1)\n",
    "plt.plot(t, s, 'r')\n",
    "#plt.title(\"Input signal: $S(t)=cos(22\\pi t^2) + 6t^2$\")\n",
    "plt.title(\"Input signal\")\n",
    "plt.xlabel(\"Time [s]\")\n",
    "\n",
    "for n, imf in enumerate(IMF):\n",
    "    plt.subplot(N,1,n+2)\n",
    "    plt.plot(t, imf, 'g')\n",
    "    plt.title(\"IMF \"+str(n+1))\n",
    "    plt.xlabel(\"Time [s]\")\n",
    "\n",
    "plt.tight_layout()\n",
    "plt.savefig('simple_example')\n",
    "plt.show()"
   ],
   "metadata": {
    "collapsed": false
   }
  },
  {
   "cell_type": "markdown",
   "source": [
    "#### 4.4.2 Independent Component Analysis"
   ],
   "metadata": {
    "collapsed": false
   }
  },
  {
   "cell_type": "code",
   "execution_count": null,
   "outputs": [],
   "source": [],
   "metadata": {
    "collapsed": false
   }
  }
 ],
 "metadata": {
  "kernelspec": {
   "display_name": "Python 3",
   "language": "python",
   "name": "python3"
  },
  "language_info": {
   "codemirror_mode": {
    "name": "ipython",
    "version": 2
   },
   "file_extension": ".py",
   "mimetype": "text/x-python",
   "name": "python",
   "nbconvert_exporter": "python",
   "pygments_lexer": "ipython2",
   "version": "2.7.6"
  }
 },
 "nbformat": 4,
 "nbformat_minor": 0
}
